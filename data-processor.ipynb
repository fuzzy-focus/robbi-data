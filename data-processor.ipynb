{
 "cells": [
  {
   "cell_type": "code",
   "execution_count": null,
   "metadata": {
    "collapsed": false
   },
   "outputs": [],
   "source": [
    "%matplotlib inline\n",
    "import fnmatch\n",
    "import os\n",
    "import pandas as pd\n",
    "from tqdm import tqdm\n",
    "\n",
    "pd.set_option(\"display.max_columns\",40)\n",
    "\n",
    "def parse_fname(fname, df):\n",
    "    fname = os.path.basename(fname)\n",
    "    fn = os.path.splitext(fname)[0]\n",
    "    d = dict(zip(('name', 'motive', 'col', 'type'), fn.split('-')))\n",
    "    for key, val in d.items():\n",
    "        df[key] = val.strip()\n",
    "    df['file'] = fname"
   ]
  },
  {
   "cell_type": "code",
   "execution_count": null,
   "metadata": {
    "collapsed": true
   },
   "outputs": [],
   "source": [
    "matches = []\n",
    "for root, dirnames, filenames in os.walk('KPI-TXT'):\n",
    "    for filename in fnmatch.filter(filenames, '*.txt'):\n",
    "        matches.append(os.path.join(root, filename))"
   ]
  },
  {
   "cell_type": "code",
   "execution_count": null,
   "metadata": {
    "collapsed": false
   },
   "outputs": [],
   "source": [
    "df = pd.DataFrame()\n",
    "for f in tqdm(matches):\n",
    "    data = pd.read_csv(f, sep='\\t')\n",
    "    parse_fname(f,data)\n",
    "    if \"White Space\" in data['Area of Interest'].values:\n",
    "        wsp = data[(data['Area of Interest'] == \"White Space\")]\n",
    "        out = data[(data['Area of Interest'] == \"ausserhalb\")]\n",
    "        wsp_i, wsp_af, wsp_fc = wsp.index, wsp['Average fixation [ms]'].values[0], wsp['Fixation count'].values[0]\n",
    "        out_i, out_af, out_fc = out.index, out['Average fixation [ms]'].values[0], out['Fixation count'].values[0]\n",
    "        data.set_value(out_i, 'Average fixation [ms]', (wsp_af*wsp_fc+out_af*out_fc)/(wsp_fc+out_fc))\n",
    "        data.set_value(out_i, 'Fixation count', wsp_fc+out_fc)\n",
    "        data.drop(wsp_i,inplace=True)\n",
    "    df = df.append(data, ignore_index=True)"
   ]
  },
  {
   "cell_type": "code",
   "execution_count": null,
   "metadata": {
    "collapsed": false
   },
   "outputs": [],
   "source": [
    "df['Total Fixation [ms]'] = df['Fixation count'] * df['Average fixation [ms]']\n",
    "df.drop(['Unnamed: 15'], axis=1, inplace=True)"
   ]
  },
  {
   "cell_type": "code",
   "execution_count": null,
   "metadata": {
    "collapsed": false
   },
   "outputs": [],
   "source": [
    "df1 = df[['col','motive','type','Area of Interest', 'Fixation count', 'Total Fixation [ms]']]\n",
    "group = df1.groupby(['motive','col','Area of Interest']).sum()\n",
    "res = group.apply(lambda x: x.sort_values())\n",
    "res"
   ]
  },
  {
   "cell_type": "code",
   "execution_count": null,
   "metadata": {
    "collapsed": false
   },
   "outputs": [],
   "source": [
    "#write things to excel\n",
    "writer = pd.ExcelWriter('output.xlsx')\n",
    "group.to_excel(writer,'Groups')\n",
    "df.to_excel(writer,'Data')\n",
    "writer.save()"
   ]
  },
  {
   "cell_type": "code",
   "execution_count": null,
   "metadata": {
    "collapsed": true
   },
   "outputs": [],
   "source": []
  }
 ],
 "metadata": {
  "kernelspec": {
   "display_name": "Python 3",
   "language": "python",
   "name": "python3"
  },
  "language_info": {
   "codemirror_mode": {
    "name": "ipython",
    "version": 3
   },
   "file_extension": ".py",
   "mimetype": "text/x-python",
   "name": "python",
   "nbconvert_exporter": "python",
   "pygments_lexer": "ipython3",
   "version": "3.4.2"
  }
 },
 "nbformat": 4,
 "nbformat_minor": 1
}
